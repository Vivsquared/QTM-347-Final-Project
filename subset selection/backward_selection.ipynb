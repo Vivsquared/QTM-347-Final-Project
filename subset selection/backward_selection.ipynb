{
  "nbformat": 4,
  "nbformat_minor": 0,
  "metadata": {
    "colab": {
      "provenance": []
    },
    "kernelspec": {
      "name": "python3",
      "display_name": "Python 3"
    },
    "language_info": {
      "name": "python"
    }
  },
  "cells": [
    {
      "cell_type": "markdown",
      "source": [
        "backward selection"
      ],
      "metadata": {
        "id": "iA8SBaazYYby"
      }
    },
    {
      "cell_type": "code",
      "execution_count": 1,
      "metadata": {
        "id": "w0Vb2Cl4Xw0Z"
      },
      "outputs": [],
      "source": [
        "#Some basic setups\n",
        "import numpy as np\n",
        "import pandas as pd\n",
        "import matplotlib.pyplot as plt\n",
        "from google.colab import files\n",
        "#Replacement for ISLR2 library\n",
        "import statsmodels.api as sm\n",
        "# different approach with sklearn\n",
        "from sklearn.metrics import r2_score\n",
        "from sklearn.linear_model import LinearRegression\n",
        "from sklearn.model_selection import (cross_validate, KFold, ShuffleSplit)\n",
        "\n",
        "\n",
        "#We can try using get_dummies from panda library for binarization.\n",
        "\n",
        "#Replacement for FNN library for KNN\n",
        "from sklearn.neighbors import KNeighborsClassifier\n",
        "from sklearn.neighbors import KNeighborsRegressor\n",
        "\n",
        "#Replacement for leaps library\n",
        "from sklearn.feature_selection import SelectKBest, f_regression\n",
        "from mlxtend.feature_selection import ExhaustiveFeatureSelector\n",
        "\n",
        "#Replacement for caTools library\n",
        "from sklearn.model_selection import train_test_split\n",
        "\n",
        "#Replacement for glmnet library for CV\n",
        "from sklearn.linear_model import ElasticNetCV\n",
        "\n",
        "#Replacement for glmnet library for Ridge and Lasso\n",
        "from sklearn.linear_model import ElasticNet\n",
        "\n",
        "#Replacement for pls library\n",
        "from sklearn.cross_decomposition import PLSRegression\n"
      ]
    },
    {
      "cell_type": "code",
      "source": [
        "df = pd.read_csv(\"/content/dataQTM.csv\")\n",
        "#M = 0, B = 1\n",
        "y = df['diagnosis']\n",
        "X = df.drop(['diagnosis', 'id'], axis=1).astype('float64')\n",
        "\n",
        "# Define the feature set X.\n",
        "Xcons = X\n",
        "Xcons = sm.add_constant(Xcons)\n",
        "print(Xcons)"
      ],
      "metadata": {
        "colab": {
          "base_uri": "https://localhost:8080/"
        },
        "id": "s5K74burYe5M",
        "outputId": "fd3dfa95-77f6-4c6d-bc88-acebf43c0375"
      },
      "execution_count": 3,
      "outputs": [
        {
          "output_type": "stream",
          "name": "stdout",
          "text": [
            "     const  radius_0ean  texture_0ean  peri0eter_0ean  area_0ean  \\\n",
            "0      1.0        17.99         10.38          122.80     1001.0   \n",
            "1      1.0        20.57         17.77          132.90     1326.0   \n",
            "2      1.0        19.69         21.25          130.00     1203.0   \n",
            "3      1.0        11.42         20.38           77.58      386.1   \n",
            "4      1.0        20.29         14.34          135.10     1297.0   \n",
            "..     ...          ...           ...             ...        ...   \n",
            "564    1.0        21.56         22.39          142.00     1479.0   \n",
            "565    1.0        20.13         28.25          131.20     1261.0   \n",
            "566    1.0        16.60         28.08          108.30      858.1   \n",
            "567    1.0        20.60         29.33          140.10     1265.0   \n",
            "568    1.0         7.76         24.54           47.92      181.0   \n",
            "\n",
            "     s0oothness_0ean  co0pactness_0ean  concavity_0ean  concave points_0ean  \\\n",
            "0            0.11840           0.27760         0.30010              0.14710   \n",
            "1            0.08474           0.07864         0.08690              0.07017   \n",
            "2            0.10960           0.15990         0.19740              0.12790   \n",
            "3            0.14250           0.28390         0.24140              0.10520   \n",
            "4            0.10030           0.13280         0.19800              0.10430   \n",
            "..               ...               ...             ...                  ...   \n",
            "564          0.11100           0.11590         0.24390              0.13890   \n",
            "565          0.09780           0.10340         0.14400              0.09791   \n",
            "566          0.08455           0.10230         0.09251              0.05302   \n",
            "567          0.11780           0.27700         0.35140              0.15200   \n",
            "568          0.05263           0.04362         0.00000              0.00000   \n",
            "\n",
            "     sy00etry_0ean  ...  radius_worst  texture_worst  peri0eter_worst  \\\n",
            "0           0.2419  ...        25.380          17.33           184.60   \n",
            "1           0.1812  ...        24.990          23.41           158.80   \n",
            "2           0.2069  ...        23.570          25.53           152.50   \n",
            "3           0.2597  ...        14.910          26.50            98.87   \n",
            "4           0.1809  ...        22.540          16.67           152.20   \n",
            "..             ...  ...           ...            ...              ...   \n",
            "564         0.1726  ...        25.450          26.40           166.10   \n",
            "565         0.1752  ...        23.690          38.25           155.00   \n",
            "566         0.1590  ...        18.980          34.12           126.70   \n",
            "567         0.2397  ...        25.740          39.42           184.60   \n",
            "568         0.1587  ...         9.456          30.37            59.16   \n",
            "\n",
            "     area_worst  s0oothness_worst  co0pactness_worst  concavity_worst  \\\n",
            "0        2019.0           0.16220            0.66560           0.7119   \n",
            "1        1956.0           0.12380            0.18660           0.2416   \n",
            "2        1709.0           0.14440            0.42450           0.4504   \n",
            "3         567.7           0.20980            0.86630           0.6869   \n",
            "4        1575.0           0.13740            0.20500           0.4000   \n",
            "..          ...               ...                ...              ...   \n",
            "564      2027.0           0.14100            0.21130           0.4107   \n",
            "565      1731.0           0.11660            0.19220           0.3215   \n",
            "566      1124.0           0.11390            0.30940           0.3403   \n",
            "567      1821.0           0.16500            0.86810           0.9387   \n",
            "568       268.6           0.08996            0.06444           0.0000   \n",
            "\n",
            "     concave points_worst  sy00etry_worst  fractal_di0ension_worst  \n",
            "0                  0.2654          0.4601                  0.11890  \n",
            "1                  0.1860          0.2750                  0.08902  \n",
            "2                  0.2430          0.3613                  0.08758  \n",
            "3                  0.2575          0.6638                  0.17300  \n",
            "4                  0.1625          0.2364                  0.07678  \n",
            "..                    ...             ...                      ...  \n",
            "564                0.2216          0.2060                  0.07115  \n",
            "565                0.1628          0.2572                  0.06637  \n",
            "566                0.1418          0.2218                  0.07820  \n",
            "567                0.2650          0.4087                  0.12400  \n",
            "568                0.0000          0.2871                  0.07039  \n",
            "\n",
            "[569 rows x 31 columns]\n"
          ]
        }
      ]
    },
    {
      "cell_type": "code",
      "execution_count": 13,
      "metadata": {
        "id": "166996d9"
      },
      "outputs": [],
      "source": [
        "def processSubset(feature_set):\n",
        "    # Fit model on feature_set and calculate RSS\n",
        "    model = sm.OLS(y,Xcons[list(feature_set)])\n",
        "    regr = model.fit()\n",
        "    RSS = ((regr.predict(Xcons[list(feature_set)]) - y) ** 2).sum()\n",
        "    return {\"model\":regr, \"RSS\":RSS}"
      ]
    },
    {
      "cell_type": "code",
      "execution_count": 14,
      "metadata": {
        "id": "24acf52e"
      },
      "outputs": [],
      "source": [
        "import time\n",
        "import itertools\n",
        "def backward(predictors):\n",
        "\n",
        "    tic = time.time()\n",
        "\n",
        "    results = []\n",
        "\n",
        "    for combo in itertools.combinations(predictors, len(predictors)-1):\n",
        "        results.append(processSubset(combo))\n",
        "\n",
        "    # Wrap everything up in a nice dataframe\n",
        "    models = pd.DataFrame(results)\n",
        "\n",
        "    # Choose the model with the highest RSS\n",
        "    best_model = models.loc[models['RSS'].argmin()]\n",
        "\n",
        "    toc = time.time()\n",
        "    print(\"Processed \", models.shape[0], \"models on\", len(predictors)-1, \"predictors in\", (toc-tic), \"seconds.\")\n",
        "\n",
        "    # Return the best model, along with some other useful information about the model\n",
        "    return best_model"
      ]
    },
    {
      "cell_type": "code",
      "execution_count": 15,
      "metadata": {
        "id": "de0c0033",
        "outputId": "c8bfe8e4-2db0-4011-cb0c-56a09a0a17e6",
        "colab": {
          "base_uri": "https://localhost:8080/"
        }
      },
      "outputs": [
        {
          "output_type": "stream",
          "name": "stdout",
          "text": [
            "Processed  31 models on 30 predictors in 0.4084641933441162 seconds.\n",
            "Processed  30 models on 29 predictors in 0.3981964588165283 seconds.\n",
            "Processed  29 models on 28 predictors in 0.3923778533935547 seconds.\n",
            "Processed  28 models on 27 predictors in 0.4234733581542969 seconds.\n",
            "Processed  27 models on 26 predictors in 0.33770751953125 seconds.\n",
            "Processed  26 models on 25 predictors in 0.3990347385406494 seconds.\n",
            "Processed  25 models on 24 predictors in 0.29621124267578125 seconds.\n",
            "Processed  24 models on 23 predictors in 0.29180049896240234 seconds.\n",
            "Processed  23 models on 22 predictors in 0.2936999797821045 seconds.\n",
            "Processed  22 models on 21 predictors in 0.2503492832183838 seconds.\n",
            "Processed  21 models on 20 predictors in 0.2796788215637207 seconds.\n",
            "Processed  20 models on 19 predictors in 0.3003532886505127 seconds.\n",
            "Processed  19 models on 18 predictors in 0.29349279403686523 seconds.\n",
            "Processed  18 models on 17 predictors in 0.24322271347045898 seconds.\n",
            "Processed  17 models on 16 predictors in 0.21879243850708008 seconds.\n",
            "Processed  16 models on 15 predictors in 0.06587862968444824 seconds.\n",
            "Processed  15 models on 14 predictors in 0.06097984313964844 seconds.\n",
            "Processed  14 models on 13 predictors in 0.05803346633911133 seconds.\n",
            "Processed  13 models on 12 predictors in 0.05750918388366699 seconds.\n",
            "Processed  12 models on 11 predictors in 0.03334760665893555 seconds.\n",
            "Processed  11 models on 10 predictors in 0.033496856689453125 seconds.\n",
            "Processed  10 models on 9 predictors in 0.030893564224243164 seconds.\n",
            "Processed  9 models on 8 predictors in 0.02824878692626953 seconds.\n",
            "Processed  8 models on 7 predictors in 0.022446155548095703 seconds.\n",
            "Processed  7 models on 6 predictors in 0.021124601364135742 seconds.\n",
            "Processed  6 models on 5 predictors in 0.022243738174438477 seconds.\n",
            "Processed  5 models on 4 predictors in 0.016657590866088867 seconds.\n",
            "Processed  4 models on 3 predictors in 0.01338648796081543 seconds.\n",
            "Processed  3 models on 2 predictors in 0.010412931442260742 seconds.\n",
            "Processed  2 models on 1 predictors in 0.008648157119750977 seconds.\n",
            "Total elapsed time: 5.4163525104522705 seconds.\n"
          ]
        }
      ],
      "source": [
        "models_bwd = pd.DataFrame(columns=[\"RSS\", \"model\"], index = range(1,len(Xcons.columns)))\n",
        "\n",
        "tic = time.time()\n",
        "predictors = Xcons.columns\n",
        "\n",
        "while(len(predictors) > 1):\n",
        "    models_bwd.loc[len(predictors)-1] = backward(predictors)\n",
        "    predictors = models_bwd.loc[len(predictors)-1][\"model\"].model.exog_names\n",
        "\n",
        "toc = time.time()\n",
        "print(\"Total elapsed time:\", (toc-tic), \"seconds.\")"
      ]
    },
    {
      "cell_type": "code",
      "source": [
        "print(models_bwd.loc[21, \"model\"].summary())"
      ],
      "metadata": {
        "colab": {
          "base_uri": "https://localhost:8080/"
        },
        "id": "ugqxkYBvaGsT",
        "outputId": "bdabdade-08cb-4cc9-e20f-f687af13f308"
      },
      "execution_count": 16,
      "outputs": [
        {
          "output_type": "stream",
          "name": "stdout",
          "text": [
            "                            OLS Regression Results                            \n",
            "==============================================================================\n",
            "Dep. Variable:              diagnosis   R-squared:                       0.774\n",
            "Model:                            OLS   Adj. R-squared:                  0.766\n",
            "Method:                 Least Squares   F-statistic:                     93.77\n",
            "Date:                Wed, 13 Dec 2023   Prob (F-statistic):          3.51e-162\n",
            "Time:                        04:21:26   Log-Likelihood:                 29.082\n",
            "No. Observations:                 569   AIC:                            -16.16\n",
            "Df Residuals:                     548   BIC:                             75.06\n",
            "Df Model:                          20                                         \n",
            "Covariance Type:            nonrobust                                         \n",
            "===========================================================================================\n",
            "                              coef    std err          t      P>|t|      [0.025      0.975]\n",
            "-------------------------------------------------------------------------------------------\n",
            "const                       2.9857      0.265     11.274      0.000       2.466       3.506\n",
            "radius_0ean                 0.2131      0.159      1.337      0.182      -0.100       0.526\n",
            "texture_0ean               -0.0043      0.007     -0.658      0.511      -0.017       0.009\n",
            "peri0eter_0ean             -0.0189      0.023     -0.838      0.402      -0.063       0.025\n",
            "area_0ean                  -0.0005      0.000     -0.964      0.335      -0.001       0.000\n",
            "co0pactness_0ean            3.9176      0.861      4.549      0.000       2.226       5.609\n",
            "concavity_0ean             -1.1807      0.965     -1.224      0.222      -3.076       0.715\n",
            "concave points_0ean        -2.8929      1.567     -1.846      0.065      -5.971       0.185\n",
            "radius_se                  -0.3909      0.216     -1.813      0.070      -0.814       0.033\n",
            "peri0eter_se                0.0386      0.030      1.291      0.197      -0.020       0.097\n",
            "s0oothness_se             -17.6611      4.644     -3.803      0.000     -26.784      -8.538\n",
            "concavity_se                3.7326      1.208      3.089      0.002       1.359       6.106\n",
            "concave points_se         -12.7254      4.128     -3.083      0.002     -20.834      -4.617\n",
            "sy00etry_se                -1.3198      2.184     -0.604      0.546      -5.609       2.970\n",
            "fractal_di0ension_se        8.6143      9.471      0.910      0.363      -9.990      27.219\n",
            "radius_worst               -0.2054      0.038     -5.399      0.000      -0.280      -0.131\n",
            "texture_worst              -0.0070      0.005     -1.479      0.140      -0.016       0.002\n",
            "area_worst                  0.0012      0.000      4.753      0.000       0.001       0.002\n",
            "concavity_worst            -0.4633      0.203     -2.277      0.023      -0.863      -0.064\n",
            "sy00etry_worst             -0.6527      0.319     -2.047      0.041      -1.279      -0.026\n",
            "fractal_di0ension_worst    -4.6609      1.709     -2.728      0.007      -8.017      -1.305\n",
            "==============================================================================\n",
            "Omnibus:                       33.054   Durbin-Watson:                   1.792\n",
            "Prob(Omnibus):                  0.000   Jarque-Bera (JB):               37.216\n",
            "Skew:                          -0.604   Prob(JB):                     8.29e-09\n",
            "Kurtosis:                       3.334   Cond. No.                     1.26e+06\n",
            "==============================================================================\n",
            "\n",
            "Notes:\n",
            "[1] Standard Errors assume that the covariance matrix of the errors is correctly specified.\n",
            "[2] The condition number is large, 1.26e+06. This might indicate that there are\n",
            "strong multicollinearity or other numerical problems.\n"
          ]
        }
      ]
    },
    {
      "cell_type": "code",
      "source": [
        "print(models_bwd.loc[13, \"model\"].summary())"
      ],
      "metadata": {
        "colab": {
          "base_uri": "https://localhost:8080/"
        },
        "id": "VO1KOW78aSEy",
        "outputId": "3921a85f-3122-4560-f534-394f7d5db290"
      },
      "execution_count": 22,
      "outputs": [
        {
          "output_type": "stream",
          "name": "stdout",
          "text": [
            "                            OLS Regression Results                            \n",
            "==============================================================================\n",
            "Dep. Variable:              diagnosis   R-squared:                       0.769\n",
            "Model:                            OLS   Adj. R-squared:                  0.764\n",
            "Method:                 Least Squares   F-statistic:                     154.6\n",
            "Date:                Wed, 13 Dec 2023   Prob (F-statistic):          3.04e-168\n",
            "Time:                        04:22:49   Log-Likelihood:                 23.483\n",
            "No. Observations:                 569   AIC:                            -20.97\n",
            "Df Residuals:                     556   BIC:                             35.50\n",
            "Df Model:                          12                                         \n",
            "Covariance Type:            nonrobust                                         \n",
            "===========================================================================================\n",
            "                              coef    std err          t      P>|t|      [0.025      0.975]\n",
            "-------------------------------------------------------------------------------------------\n",
            "const                       3.2010      0.174     18.443      0.000       2.860       3.542\n",
            "co0pactness_0ean            3.4311      0.553      6.205      0.000       2.345       4.517\n",
            "concave points_0ean        -4.3313      0.907     -4.777      0.000      -6.112      -2.550\n",
            "radius_se                  -0.2445      0.068     -3.591      0.000      -0.378      -0.111\n",
            "s0oothness_se             -19.6846      4.351     -4.524      0.000     -28.231     -11.139\n",
            "concavity_se                3.3763      0.735      4.596      0.000       1.933       4.819\n",
            "concave points_se          -8.6074      3.338     -2.578      0.010     -15.165      -2.050\n",
            "radius_worst               -0.1329      0.014     -9.199      0.000      -0.161      -0.105\n",
            "texture_worst              -0.0107      0.002     -5.889      0.000      -0.014      -0.007\n",
            "area_worst                  0.0008      0.000      7.313      0.000       0.001       0.001\n",
            "concavity_worst            -0.6867      0.144     -4.778      0.000      -0.969      -0.404\n",
            "sy00etry_worst             -0.8979      0.207     -4.343      0.000      -1.304      -0.492\n",
            "fractal_di0ension_worst    -4.0741      1.089     -3.740      0.000      -6.213      -1.935\n",
            "==============================================================================\n",
            "Omnibus:                       24.208   Durbin-Watson:                   1.764\n",
            "Prob(Omnibus):                  0.000   Jarque-Bera (JB):               26.210\n",
            "Skew:                          -0.520   Prob(JB):                     2.03e-06\n",
            "Kurtosis:                       3.161   Cond. No.                     4.71e+05\n",
            "==============================================================================\n",
            "\n",
            "Notes:\n",
            "[1] Standard Errors assume that the covariance matrix of the errors is correctly specified.\n",
            "[2] The condition number is large, 4.71e+05. This might indicate that there are\n",
            "strong multicollinearity or other numerical problems.\n"
          ]
        }
      ]
    }
  ]
}